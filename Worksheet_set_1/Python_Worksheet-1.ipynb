{
  "metadata": {
    "kernelspec": {
      "name": "python",
      "display_name": "Python (Pyodide)",
      "language": "python"
    },
    "language_info": {
      "codemirror_mode": {
        "name": "python",
        "version": 3
      },
      "file_extension": ".py",
      "mimetype": "text/x-python",
      "name": "python",
      "nbconvert_exporter": "python",
      "pygments_lexer": "ipython3",
      "version": "3.8"
    }
  },
  "nbformat_minor": 4,
  "nbformat": 4,
  "cells": [
    {
      "cell_type": "code",
      "source": "1. C) %\n2. B) 0\n3. C) 24\n4. A) 2\n5. D) 6\n6. C) the finally block will bve executed no matter if the try block raises an error or not\n7. A) It is used to raise an exception\n8. C) is defining a generator\n9. A) _abc and C) abc2\n10. B) raise",
      "metadata": {
        "trusted": true
      },
      "outputs": [],
      "execution_count": null
    },
    {
      "cell_type": "code",
      "source": "# Solution 11\ndef find_factorial(num):\n    if num < 0:\n        return 0\n    elif num == 0 or num == 1:\n        return 1\n    else:\n        factorial = 1\n        while(num > 1):\n            factorial *= num\n            num -= 1\n        return factorial\n \n# Driver Code\n#num = int(input(\"enter number\"))  ##to take input from the user\nnum = 5\nresult = find_factorial(num)\nprint(\"Factorial of \", num, \"is: \", result)",
      "metadata": {
        "trusted": true
      },
      "outputs": [],
      "execution_count": null
    },
    {
      "cell_type": "code",
      "source": "# Solution 12\nnum = 11 \n# num = int(input(\"Enter number\")) ## to take input from the user\n\nif num > 1:\n    for i in range(2, int(num/2)+1):\n        if (num % i) == 0:\n            print(num, \"is a composite number\")\n            break\n    else:\n        print(num, \"is a prime number\")\nelse:\n    print(num, \"is a composite number\")",
      "metadata": {
        "trusted": true
      },
      "outputs": [],
      "execution_count": null
    },
    {
      "cell_type": "code",
      "source": "# Solution 13\n#num = int(input(\"Enter number:\")) ## to take input from the user\nnum = 9889\ntemp = num\nreversed_num = 0\nwhile(num>0):\n    d = num%10\n    reversed_num = reversed_num*10 + d\n    num = num//10\nif(temp==reversed_num):\n    print(\"The number is a palindrome..\")\nelse:\n    print(\"The number isn't a palindrome..\")",
      "metadata": {
        "trusted": true
      },
      "outputs": [],
      "execution_count": null
    },
    {
      "cell_type": "code",
      "source": "# Solution 14\nimport math\n\nside = input(\"Give the side you want to find (a, b, or c): \")\n\nif side == \"a\":\n    b = float(input(\"Enter side b: \"))\n    c = float(input(\"Enter hypotenuse c: \"))\n    a = math.sqrt(c ** 2 - b ** 2)\n    print(f\"The length of the side a is {a}\")\n    \nelif side == \"b\":\n    a = float(input(\"Enter side a: \"))\n    c = float(input(\"Enter hypotenuse c: \"))\n    b = math.sqrt(c ** 2 - a ** 2)\n    print(f\"The length of the side b is {b}\")\n\nelif side == \"c\":\n    a = float(input(\"Enter side a: \"))\n    b = float(input(\"Enter side b: \"))\n    c = math.sqrt(a ** 2 + b ** 2)\n    print(f\"The length of the hypotenuse c is {c}\")\nelse:\n    print(\"Invalid input\")",
      "metadata": {
        "trusted": true
      },
      "outputs": [],
      "execution_count": null
    },
    {
      "cell_type": "code",
      "source": "# Solution 15\ninput_string = \"SampleStringToCheckFrequencyOfEachCharacter\"\n\nfrequency_dict = {}\n\nfor i in input_string:\n\tif i in frequency_dict:\n\t\tfrequency_dict[i] += 1\n\telse:\n\t\tfrequency_dict[i] = 1\n\nprint(\"Frequency of all characters is :\\n \"\n\t+ str(frequency_dict))",
      "metadata": {
        "trusted": true
      },
      "outputs": [],
      "execution_count": null
    }
  ]
}