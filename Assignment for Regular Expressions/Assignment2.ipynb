{
 "cells": [
  {
   "cell_type": "code",
   "execution_count": 1,
   "metadata": {},
   "outputs": [
    {
     "name": "stdout",
     "output_type": "stream",
     "text": [
      "Python:Exercises::PHP:exercises:\n"
     ]
    }
   ],
   "source": [
    "# Solution 1\n",
    "input_string = 'Python Exercises, PHP exercises.'\n",
    "\n",
    "# Replace space, comma, and dot with a colon\n",
    "output_string = input_string.replace(' ', ':').replace(',', ':').replace('.', ':')\n",
    "\n",
    "print(output_string)"
   ]
  },
  {
   "cell_type": "code",
   "execution_count": 2,
   "metadata": {},
   "outputs": [
    {
     "name": "stdout",
     "output_type": "stream",
     "text": [
      "0         hello world\n",
      "1          XXXXX test\n",
      "2    123four five six\n",
      "Name: SUMMARY, dtype: object\n"
     ]
    }
   ],
   "source": [
    "# Solution 2\n",
    "import pandas as pd\n",
    "import re\n",
    "\n",
    "input_dictionary = {'SUMMARY': ['hello, world!', 'XXXXX test', '123four, five:; six...']}\n",
    "df = pd.DataFrame(input_dictionary)\n",
    "df['SUMMARY'] = df['SUMMARY'].apply(lambda x: re.sub(r'[^\\w\\s]', '', x))\n",
    "print(df['SUMMARY'])"
   ]
  },
  {
   "cell_type": "code",
   "execution_count": 3,
   "metadata": {},
   "outputs": [
    {
     "name": "stdout",
     "output_type": "stream",
     "text": [
      "['This', 'example', 'string', 'with', 'words', 'varying', 'lengths', 'finds', 'words', 'with', 'length', 'atleast', 'four']\n"
     ]
    }
   ],
   "source": [
    "# Solution 3\n",
    "import re\n",
    "\n",
    "def find_words_of_length_atleast_four(string):\n",
    "  pattern = re.compile(r'\\b\\w{4,}\\b')\n",
    "  matched_words = pattern.findall(string)\n",
    "  return matched_words\n",
    "input_string = \"This is an example string with words of varying lengths. It finds words with length atleast four.\"\n",
    "result = find_words_of_length_atleast_four(input_string)\n",
    "print(result)"
   ]
  },
  {
   "cell_type": "code",
   "execution_count": 4,
   "metadata": {},
   "outputs": [
    {
     "name": "stdout",
     "output_type": "stream",
     "text": [
      "['This', 'with', 'words', 'finds', 'words', 'with', 'three', 'four', 'and', 'five']\n"
     ]
    }
   ],
   "source": [
    "# Solution 4\n",
    "import re\n",
    "\n",
    "def find_words(string):\n",
    "  pattern = re.compile(r'\\b\\w{3,5}\\b')\n",
    "  matches = pattern.findall(string)\n",
    "  return matches\n",
    "    \n",
    "string = \"This is an example string with words of varying lengths. It finds words with length - three, four and five.\"\n",
    "result = find_words(string)\n",
    "print(result)"
   ]
  },
  {
   "cell_type": "code",
   "execution_count": 5,
   "metadata": {},
   "outputs": [
    {
     "name": "stdout",
     "output_type": "stream",
     "text": [
      "example .com\n",
      "hr@fliprobo .com\n",
      "github .com\n",
      "Hello Data Science World\n",
      "Data Scientist\n"
     ]
    }
   ],
   "source": [
    "# Solution 5\n",
    "import re\n",
    "\n",
    "def remove_parentheses(input_string):\n",
    "  pattern = re.compile(r\"[()]\")\n",
    "  modified_strings = []\n",
    "  for string in input_string:\n",
    "      modified_string = re.sub(pattern, \"\", string)\n",
    "      modified_strings.append(modified_string)\n",
    "  return modified_strings\n",
    "\n",
    "input_string = [\"example (.com)\", \"hr@fliprobo (.com)\", \"github (.com)\", \"Hello (Data Science World)\", \"Data (Scientist)\"]\n",
    "output_string = remove_parentheses(input_string)\n",
    "for s in output_string:\n",
    "    print(s)"
   ]
  },
  {
   "cell_type": "code",
   "execution_count": 11,
   "metadata": {},
   "outputs": [
    {
     "name": "stdout",
     "output_type": "stream",
     "text": [
      "[\"example \", \"hr@fliprobo \", \"github \", \"Hello \", \"Data \"]\n"
     ]
    }
   ],
   "source": [
    "# Solution 6 \n",
    "import re\n",
    "\n",
    "def remove_parentheses(input_string):\n",
    "  pattern = re.compile(r\"\\([^()]*\\)\")\n",
    "  for string in input_string:\n",
    "      modified_string = re.sub(pattern, \"\", string)\n",
    "  return modified_string\n",
    "\n",
    "# Read the text file and store its content in a variable\n",
    "input_file = open('Assignment2Files\\question6.txt')\n",
    "input_string = input_file.readlines()\n",
    "\n",
    "output_string = remove_parentheses(input_string)\n",
    "print(output_string)   "
   ]
  },
  {
   "cell_type": "code",
   "execution_count": 12,
   "metadata": {},
   "outputs": [
    {
     "name": "stdout",
     "output_type": "stream",
     "text": [
      "['Importance', 'Of', 'Regular', 'Expressions', 'In', 'Python']\n"
     ]
    }
   ],
   "source": [
    "# Solution 7\n",
    "import re\n",
    "input_string = \"ImportanceOfRegularExpressionsInPython\"\n",
    "print(re.findall('[A-Z][^A-Z]*', input_string))"
   ]
  },
  {
   "cell_type": "code",
   "execution_count": 13,
   "metadata": {},
   "outputs": [
    {
     "name": "stdout",
     "output_type": "stream",
     "text": [
      "RegularExpression 1IsAn 2ImportantTopic 3InPython\n"
     ]
    }
   ],
   "source": [
    "# Solution 8 \n",
    "import re\n",
    "def insert_spaces_between_words(input_string):\n",
    "  return re.sub(r\"(\\d+)([A-Za-z]+)\", r\" \\1\\2\", input_string)\n",
    " \n",
    "input_string = \"RegularExpression1IsAn2ImportantTopic3InPython\"\n",
    "output = insert_spaces_between_words(input_string)\n",
    "print(output)"
   ]
  },
  {
   "cell_type": "code",
   "execution_count": 14,
   "metadata": {},
   "outputs": [
    {
     "name": "stdout",
     "output_type": "stream",
     "text": [
      "RegularExpression 1 IsAn 2 ImportantTopic 3 InPython\n"
     ]
    }
   ],
   "source": [
    "# Solution 9\n",
    "import re\n",
    "\n",
    "def insert_spaces(input_string):\n",
    "  pattern = r'([A-Z][0-9]+|\\d+)'\n",
    "  result = re.sub(pattern, r' \\1 ', input_string)\n",
    "  result = result.strip() # removing any leading or trailing spaces\n",
    "  return result\n",
    " \n",
    "input_string = \"RegularExpression1IsAn2ImportantTopic3InPython\"\n",
    "output = insert_spaces(input_string)\n",
    "print(output)"
   ]
  },
  {
   "cell_type": "code",
   "execution_count": 40,
   "metadata": {},
   "outputs": [
    {
     "name": "stdout",
     "output_type": "stream",
     "text": [
      "       Country          Region  Happiness Rank  Happiness Score  \\\n",
      "0  Switzerland  Western Europe               1            7.587   \n",
      "1      Iceland  Western Europe               2            7.561   \n",
      "2      Denmark  Western Europe               3            7.527   \n",
      "3       Norway  Western Europe               4            7.522   \n",
      "4       Canada   North America               5            7.427   \n",
      "\n",
      "   Standard Error  Economy (GDP per Capita)   Family  \\\n",
      "0         0.03411                   1.39651  1.34951   \n",
      "1         0.04884                   1.30232  1.40223   \n",
      "2         0.03328                   1.32548  1.36058   \n",
      "3         0.03880                   1.45900  1.33095   \n",
      "4         0.03553                   1.32629  1.32261   \n",
      "\n",
      "   Health (Life Expectancy)  Freedom  Trust (Government Corruption)  \\\n",
      "0                   0.94143  0.66557                        0.41978   \n",
      "1                   0.94784  0.62877                        0.14145   \n",
      "2                   0.87464  0.64938                        0.48357   \n",
      "3                   0.88521  0.66973                        0.36503   \n",
      "4                   0.90563  0.63297                        0.32957   \n",
      "\n",
      "   Generosity  Dystopia Residual  \n",
      "0     0.29678            2.51738  \n",
      "1     0.43630            2.70201  \n",
      "2     0.34139            2.49204  \n",
      "3     0.34699            2.46531  \n",
      "4     0.45811            2.45176  \n"
     ]
    }
   ],
   "source": [
    "# Solution 10 \n",
    "import pandas as pd\n",
    "\n",
    "# assigning url to a variable\n",
    "url=\"https://raw.githubusercontent.com/dsrscientist/DSData/master/happiness_score_dataset.csv\"\n",
    " \n",
    "# passing parameter to the function\n",
    "df = pd.read_csv(url,engine=\"python\")\n",
    "print(df.head())\n",
    "# df['first_five_letters'] = df['Country'].str[::-1]"
   ]
  },
  {
   "cell_type": "code",
   "execution_count": 16,
   "metadata": {},
   "outputs": [
    {
     "name": "stdout",
     "output_type": "stream",
     "text": [
      "String not matched!\n",
      "String matched!\n"
     ]
    }
   ],
   "source": [
    "# Solution 11\n",
    "import re\n",
    "def match_string(input_string):\n",
    "        pattern = '^[a-zA-Z0-9_]*$'\n",
    "        if re.search(pattern,  input_string):\n",
    "                return 'String matched!'\n",
    "        else:\n",
    "                return('String not matched!')\n",
    "\n",
    "print(match_string(\"Trying to describe code with text is like trying to explain an Italian poem in English\"))\n",
    "print(match_string(\"Python_Examples_for_demonstrating_Regular_Expressions\"))"
   ]
  },
  {
   "cell_type": "code",
   "execution_count": 17,
   "metadata": {},
   "outputs": [
    {
     "name": "stdout",
     "output_type": "stream",
     "text": [
      "Passed: The input string starts with the specified number.\n"
     ]
    }
   ],
   "source": [
    "# Solution 12\n",
    "def check_string_starting_with_given_number(input_string, starting_number):\n",
    "  if input_string.startswith(str(starting_number)):\n",
    "      return True\n",
    "  else:\n",
    "      return False\n",
    "      \n",
    "input_string = \"789samplestring\"\n",
    "starting_number = 789\n",
    "\n",
    "if check_string_starting_with_given_number(input_string, starting_number):\n",
    "  print(\"Passed: The input string starts with the specified number.\")\n",
    "else:\n",
    "  print(\"Failed: The input string does not start with the specified number.\")"
   ]
  },
  {
   "cell_type": "code",
   "execution_count": 18,
   "metadata": {},
   "outputs": [
    {
     "name": "stdout",
     "output_type": "stream",
     "text": [
      "10.0.1.101\n",
      "10.0.2.2011\n",
      "10.0.2.20\n"
     ]
    }
   ],
   "source": [
    "# Solution 13\n",
    "import re\n",
    "\n",
    "def remove_leading_zeros_from_ip_address(ip_address):\n",
    "  return re.sub('(^|\\.)0+(?=[^.])', r'\\1', ip_address)\n",
    "    \n",
    "print(remove_leading_zeros_from_ip_address('10.0.01.101'))\n",
    "print(remove_leading_zeros_from_ip_address('10.00.002.2011'))\n",
    "print(remove_leading_zeros_from_ip_address('0010.00.02.0020'))"
   ]
  },
  {
   "cell_type": "code",
   "execution_count": 20,
   "metadata": {},
   "outputs": [
    {
     "name": "stdout",
     "output_type": "stream",
     "text": [
      "August 15th 1947\n"
     ]
    }
   ],
   "source": [
    " # Solution 14 PENDING - FILE NEEDED, CODE WORKS FINE\n",
    "import re\n",
    "\n",
    "def match_date_string(input_string):\n",
    "  pattern = re.compile(r\"\\b(?:January|February|March|April|May|June|July|August|September|October|November|December)\\s+\\d{1,2}(?:st|nd|rd|th)\\s+\\d{4}\\b\", re.IGNORECASE)\n",
    "  matches = pattern.findall(input_string)\n",
    "  return matches\n",
    "\n",
    "# Read the text file and store its content in a variable\n",
    "input_file = open('Assignment2Files\\question14.txt')\n",
    "input_string = input_file.read()\n",
    "result = match_date_string(input_string)\n",
    "for r in result:\n",
    "    print(r)"
   ]
  },
  {
   "cell_type": "code",
   "execution_count": 21,
   "metadata": {},
   "outputs": [
    {
     "name": "stdout",
     "output_type": "stream",
     "text": [
      "Searching for literal string = \"fox\" in \"The quick brown fox jumps over the lazy dog.\" ->\n",
      "Patterns matched!\n",
      "Searching for literal string = \"dog\" in \"The quick brown fox jumps over the lazy dog.\" ->\n",
      "Patterns matched!\n",
      "Searching for literal string = \"horse\" in \"The quick brown fox jumps over the lazy dog.\" ->\n",
      "Patterns did not match!\n"
     ]
    }
   ],
   "source": [
    "# Solution 15\n",
    "import re\n",
    "patterns_to_match = [ 'fox', 'dog', 'horse' ]\n",
    "input_string = 'The quick brown fox jumps over the lazy dog.'\n",
    "for pattern in patterns_to_match:\n",
    "    print('Searching for literal string = \"%s\" in \"%s\" ->' % (pattern, input_string),)\n",
    "    if re.search(pattern,  input_string):\n",
    "        print('Patterns matched!')\n",
    "    else:\n",
    "        print('Patterns did not match!')\t\t"
   ]
  },
  {
   "cell_type": "code",
   "execution_count": 22,
   "metadata": {},
   "outputs": [
    {
     "name": "stdout",
     "output_type": "stream",
     "text": [
      "Found literal string = \"fox\" in \"The quick brown fox jumps over the lazy dog.\" at position starting from 16 to 19 \n"
     ]
    }
   ],
   "source": [
    "# Solution 16\n",
    "import re\n",
    "pattern = 'fox'\n",
    "input_string = 'The quick brown fox jumps over the lazy dog.'\n",
    "match = re.search(pattern, input_string)\n",
    "start = match.start()\n",
    "end = match.end()\n",
    "print('Found literal string = \"%s\" in \"%s\" at position starting from %d to %d ' % \\\n",
    "    (match.re.pattern, match.string, start, end))\t"
   ]
  },
  {
   "cell_type": "code",
   "execution_count": 23,
   "metadata": {},
   "outputs": [
    {
     "name": "stdout",
     "output_type": "stream",
     "text": [
      "Found substring =  exercises\n",
      "Found substring =  exercises\n",
      "Found substring =  exercises\n"
     ]
    }
   ],
   "source": [
    "# Solution 17\n",
    "import re\n",
    "input_string = 'Python exercises, PHP exercises, C# exercises'\n",
    "pattern = 'exercises'\n",
    "for match in re.findall(pattern, input_string):\n",
    "    print('Found substring = ', match)"
   ]
  },
  {
   "cell_type": "code",
   "execution_count": 24,
   "metadata": {},
   "outputs": [
    {
     "name": "stdout",
     "output_type": "stream",
     "text": [
      "Found \"sample\" at 10 to 16\n"
     ]
    }
   ],
   "source": [
    "# Solution 18\n",
    "import re\n",
    "input_string = 'This is a sample input string.'\n",
    "pattern = 'sample'\n",
    "for match in re.finditer(pattern, input_string):\n",
    "    start = match.start()\n",
    "    end = match.end()\n",
    "    print('Found \"%s\" at %d to %d' % (input_string[start:end], start, end))\t"
   ]
  },
  {
   "cell_type": "code",
   "execution_count": 25,
   "metadata": {},
   "outputs": [
    {
     "name": "stdout",
     "output_type": "stream",
     "text": [
      "Input date in YYY-MM-DD format:  2026-01-28\n",
      "Output date in DD-MM-YYYY format:  28-01-2026\n"
     ]
    }
   ],
   "source": [
    "# Solution 19\n",
    "import re\n",
    "def modify_date_format(input_date):\n",
    "        return re.sub(r'(\\d{4})-(\\d{1,2})-(\\d{1,2})', '\\\\3-\\\\2-\\\\1', input_date)\n",
    "input_date = \"2026-01-28\"\n",
    "print(\"Input date in YYY-MM-DD format: \", input_date)\n",
    "print(\"Output date in DD-MM-YYYY format: \", modify_date_format(input_date))"
   ]
  },
  {
   "cell_type": "code",
   "execution_count": 26,
   "metadata": {},
   "outputs": [
    {
     "name": "stdout",
     "output_type": "stream",
     "text": [
      "['01.12', '145.8', '3.01', '27.25', '0.25']\n"
     ]
    }
   ],
   "source": [
    "# Solution 20\n",
    "import re\n",
    "def find_decimal_numbers(input_string): \n",
    "    pattern = re.compile(r\"\\b\\d+\\.\\d{1,2}\\b\")\n",
    "    result = pattern.findall(input_string)\n",
    "    return result\n",
    "\n",
    "input_string = \"01.12 0132.123 2.31875 145.8 3.01 27.25 0.25\"\n",
    "\n",
    "result = find_decimal_numbers(input_string)\n",
    "print(result)"
   ]
  },
  {
   "cell_type": "code",
   "execution_count": 27,
   "metadata": {},
   "outputs": [
    {
     "name": "stdout",
     "output_type": "stream",
     "text": [
      "The number is:  7\n",
      "Index position is: 10\n"
     ]
    }
   ],
   "source": [
    "# Solution 21\n",
    "import re\n",
    "input_string = \"There are 7 continents in the world. On Earth, there are three major oceans: the Pacific, Atlantic, and Indian oceans.\"\n",
    "\n",
    "for i in re.finditer(\"\\d+\", input_string):\n",
    "    print(\"The number is: \", i.group(0))\n",
    "    print(\"Index position is:\", i.start())"
   ]
  },
  {
   "cell_type": "code",
   "execution_count": 28,
   "metadata": {},
   "outputs": [
    {
     "name": "stdout",
     "output_type": "stream",
     "text": [
      "950\n"
     ]
    }
   ],
   "source": [
    "# Solution 22\n",
    "import re\n",
    "\n",
    "input_string = 'My marks in each semester are: 947, 896, 926, 524, 734, 950, 642'\n",
    "\n",
    "numbers = re.findall(r'\\d+', input_string)\n",
    "numbers = [int(value) for value in numbers]\n",
    "\n",
    "largest_number = max(numbers)\n",
    "\n",
    "print(largest_number)"
   ]
  },
  {
   "cell_type": "code",
   "execution_count": 29,
   "metadata": {},
   "outputs": [
    {
     "name": "stdout",
     "output_type": "stream",
     "text": [
      "Regular Expression Is An Important Topic In Python\n"
     ]
    }
   ],
   "source": [
    "# Solution 23\n",
    "import re \n",
    "\n",
    "def insert_space(input_string): \n",
    "    words = re.findall('[A-Z][a-z]*', input_string) \n",
    "   \n",
    "    for i in range(0,len(words)):\n",
    "      words[i]=words[i][0]+words[i][1:]\n",
    "    print(' '.join(words))\n",
    "     \n",
    "input_string = 'RegularExpressionIsAnImportantTopicInPython'\n",
    "insert_space(input_string)"
   ]
  },
  {
   "cell_type": "code",
   "execution_count": 30,
   "metadata": {},
   "outputs": [
    {
     "name": "stdout",
     "output_type": "stream",
     "text": [
      "['His', 'Ext', 'Multipl', 'Matches']\n"
     ]
    }
   ],
   "source": [
    "# Solution 24\n",
    "import re\n",
    "\n",
    "pattern = r'[A-Z][a-z]+' \n",
    "text = \"THis is a sample tExt with MultiplE Matches\"\n",
    "\n",
    "matches = re.findall(pattern, text)\n",
    "print(matches)"
   ]
  },
  {
   "cell_type": "code",
   "execution_count": 32,
   "metadata": {},
   "outputs": [
    {
     "name": "stdout",
     "output_type": "stream",
     "text": [
      "Hello hello world\n"
     ]
    }
   ],
   "source": [
    "# Solution 25\n",
    "import re\n",
    "\n",
    "def remove_duplicate_words(input_string):\n",
    "    pattern = r'\\b(\\w+)(?:\\W+\\1\\b)+' \n",
    "    return re.sub(pattern, r'\\1', input_string)\n",
    "\n",
    "input_string = \"Hello hello world world\"\n",
    "print(remove_duplicate_words(input_string))"
   ]
  },
  {
   "cell_type": "code",
   "execution_count": 33,
   "metadata": {},
   "outputs": [
    {
     "name": "stdout",
     "output_type": "stream",
     "text": [
      "Reject: does not end with alphanumeric characters\n",
      "Accept: ends with alphanumeric characters\n"
     ]
    }
   ],
   "source": [
    "# Solution 26\n",
    "import re\n",
    "regex = '[a-zA-z0-9]$'\n",
    "def check_alphanumeric_characters(string):\n",
    "    if(re.search(regex, string)): \n",
    "        print(\"Accept: ends with alphanumeric characters\")          \n",
    "    else: \n",
    "        print(\"Reject: does not end with alphanumeric characters\") \n",
    "        \n",
    "input_string1 = \"fliprobo@\"\n",
    "check_alphanumeric_characters(input_string1)\n",
    " \n",
    "input_string2 = \"fliprobo853\"\n",
    "check_alphanumeric_characters(input_string2) "
   ]
  },
  {
   "cell_type": "code",
   "execution_count": 34,
   "metadata": {},
   "outputs": [
    {
     "name": "stdout",
     "output_type": "stream",
     "text": [
      "['#Doltiwal', '#xyzabc', '#Demonetization']\n"
     ]
    }
   ],
   "source": [
    "# Solution 27\n",
    "import re\n",
    "\n",
    "def extract_hashtags(input_string):\n",
    "  extracted_hashtags = re.findall(r'#\\w+', input_string)\n",
    "  return extracted_hashtags\n",
    "\n",
    "input_string = 'RT @kapil_kausik: #Doltiwal I mean #xyzabc is \"hurt\" by #Demonetization as the same has rendered USELESS <ed><U+00A0><U+00BD><ed><U+00B1><U+0089> \"acquired funds\" No wo'\n",
    "\n",
    "extracted_hashtags = extract_hashtags(input_string)\n",
    "\n",
    "print(extracted_hashtags)"
   ]
  },
  {
   "cell_type": "code",
   "execution_count": 35,
   "metadata": {},
   "outputs": [
    {
     "name": "stdout",
     "output_type": "stream",
     "text": [
      "@Jags123456 Bharat band on 28??<ed><ed>Those who  are protesting #demonetization  are all different party leaders\n"
     ]
    }
   ],
   "source": [
    "# Solution 28\n",
    "import re\n",
    "\n",
    "input_string = \"@Jags123456 Bharat band on 28??<ed><U+00A0><U+00BD><ed><U+00B8><U+0082>Those who  are protesting #demonetization  are all different party leaders\"\n",
    "pattern = '<U\\+\\w{4}>'\n",
    "output_string = re.sub(pattern, '', input_string)\n",
    "print(output_string)"
   ]
  },
  {
   "cell_type": "code",
   "execution_count": 37,
   "metadata": {},
   "outputs": [
    {
     "name": "stdout",
     "output_type": "stream",
     "text": [
      "['12-09-1992', '15-12-1999']\n"
     ]
    }
   ],
   "source": [
    "# Solution 29 \n",
    "import re\n",
    "\n",
    "input_file = open('Assignment2Files\\question29.txt')\n",
    "input_string = input_file.read()\n",
    "\n",
    "pattern = \"\\d{2}[/-]\\d{2}[/-]\\d{4}\"\n",
    "\n",
    "extracted_dates = re.findall(pattern, input_string)\n",
    "print(extracted_dates)"
   ]
  },
  {
   "cell_type": "code",
   "execution_count": 38,
   "metadata": {},
   "outputs": [
    {
     "name": "stdout",
     "output_type": "stream",
     "text": [
      " following example creates ArrayList a capacity elements. 4 elements added ArrayList ArrayList trimmed accordingly.\n"
     ]
    }
   ],
   "source": [
    "# Solution 30\n",
    "import re\n",
    "input_string = \"The following example creates an ArrayList with a capacity of 50 elements. 4 elements are then added to the ArrayList and the ArrayList is trimmed accordingly.\"\n",
    "# remove words between 1 and 3\n",
    "pattern = re.compile(r'\\b\\w{2,4}\\b')\n",
    "output_string = pattern.sub('', input_string)\n",
    "output_string = re.sub(' +', ' ', output_string) # removing extra spaces\n",
    "\n",
    "print(output_string)"
   ]
  },
  {
   "cell_type": "code",
   "execution_count": null,
   "metadata": {},
   "outputs": [],
   "source": []
  }
 ],
 "metadata": {
  "kernelspec": {
   "display_name": "Python 3 (ipykernel)",
   "language": "python",
   "name": "python3"
  },
  "language_info": {
   "codemirror_mode": {
    "name": "ipython",
    "version": 3
   },
   "file_extension": ".py",
   "mimetype": "text/x-python",
   "name": "python",
   "nbconvert_exporter": "python",
   "pygments_lexer": "ipython3",
   "version": "3.11.5"
  }
 },
 "nbformat": 4,
 "nbformat_minor": 4
}
